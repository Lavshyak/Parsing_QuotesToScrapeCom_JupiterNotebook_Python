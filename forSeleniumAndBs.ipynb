﻿{
 "cells": [
  {
   "metadata": {
    "ExecuteTime": {
     "end_time": "2025-07-31T14:24:35.413371Z",
     "start_time": "2025-07-31T14:24:32.055831Z"
    }
   },
   "cell_type": "code",
   "source": [
    "from IPython.display import display, HTML\n",
    "from PIL import Image\n",
    "from bs4 import BeautifulSoup\n",
    "from selenium.common import NoSuchElementException\n",
    "from selenium.webdriver.remote.webelement import WebElement\n",
    "from bs4 import PageElement, Tag\n",
    "from typing import List\n",
    "from selenium import webdriver\n",
    "from selenium.webdriver.common.by import By\n",
    "\n",
    "driver = webdriver.Chrome()"
   ],
   "id": "13642862654af238",
   "outputs": [],
   "execution_count": 88
  },
  {
   "metadata": {
    "ExecuteTime": {
     "end_time": "2025-07-31T14:24:35.456229Z",
     "start_time": "2025-07-31T14:24:35.449982Z"
    }
   },
   "cell_type": "code",
   "source": [
    "def print_and_display(we: WebElement, comment: str) -> None:\n",
    "    print(comment)\n",
    "    we.screenshot(\"data/tmp.png\")\n",
    "    display(Image.open(\"data/tmp.png\"))"
   ],
   "id": "7129e6654b5a25ca",
   "outputs": [],
   "execution_count": 89
  },
  {
   "metadata": {
    "ExecuteTime": {
     "end_time": "2025-07-31T14:24:35.573083Z",
     "start_time": "2025-07-31T14:24:35.559722Z"
    }
   },
   "cell_type": "code",
   "source": [
    "def parse_page(source_html_str: str) -> list[dict]:\n",
    "    soup = BeautifulSoup(source_html, 'html.parser')\n",
    "\n",
    "    body = soup.body\n",
    "    container = body.find(name=\"div\", attrs={\"class\": \"container\"})\n",
    "    qcs = body.findAll(name=\"div\", attrs={\"class\": \"row\"})\n",
    "    quotes_container = [x for x in qcs if 'header-box' not in x.get(\"class\", [])][0]\n",
    "\n",
    "    real_quotes_container: Tag = quotes_container.find(name=\"div\", attrs={\"class\": \"col-md-8\"})\n",
    "\n",
    "    quotes = real_quotes_container.findAll(name=\"div\", attrs={\"class\": \"quote\"})\n",
    "\n",
    "    quote_dicts = list()\n",
    "    for quote in quotes:\n",
    "        q: Tag = quote\n",
    "        #print(q)\n",
    "        q_text_el = q.find(attrs={\"class\": \"text\"})\n",
    "        q_text = q_text_el.text.lstrip('“').rstrip('”')\n",
    "        #print(q_text)\n",
    "\n",
    "        q_spans = q.findAll(name=\"span\")\n",
    "        needed_span = [x for x in q_spans if 'text' not in x.get(\"class\", [])][0]\n",
    "        author = needed_span.find(name=\"small\", attrs={\"itemprop\": \"author\"})\n",
    "        author_text = str(author.text)\n",
    "        #print(author_text)\n",
    "        author_link = needed_span.find(name=\"a\")\n",
    "        author_href_text = author_link.get(\"href\", [])\n",
    "        #print(author_href_text)\n",
    "\n",
    "        tag_els = q.findAll(name=\"a\", attrs={\"class\": \"tag\"})\n",
    "        tags = [{'text': x.text, 'href': x.get(\"href\", [])} for x in tag_els]\n",
    "        #print(tags)\n",
    "\n",
    "        quote_dict = {\n",
    "            'text': q_text,\n",
    "            'author': author_text,\n",
    "            'author_href': author_href_text,\n",
    "            'tags': tags\n",
    "        }\n",
    "        quote_dicts.append(quote_dict)\n",
    "    return quote_dicts"
   ],
   "id": "2d29702acdb1d858",
   "outputs": [],
   "execution_count": 90
  },
  {
   "metadata": {
    "ExecuteTime": {
     "end_time": "2025-07-31T14:24:35.630133Z",
     "start_time": "2025-07-31T14:24:35.622116Z"
    }
   },
   "cell_type": "code",
   "source": [
    "def go_to_next_page() -> bool:\n",
    "    body = driver.find_element(By.TAG_NAME, \"body\")\n",
    "    #print_and_display(body, \"body\")\n",
    "\n",
    "    container = body.find_element(By.CLASS_NAME, \"container\")\n",
    "    #print_and_display(container, \"container\")\n",
    "\n",
    "    quotes_containers: List[WebElement] = container.find_elements(By.CLASS_NAME, \"row\")\n",
    "\n",
    "    quotes_container = list([qs for qs in quotes_containers if qs.get_attribute(\"class\") == \"row\"])[0]\n",
    "\n",
    "\n",
    "    real_quotes_container = quotes_container.find_element(By.CLASS_NAME, \"col-md-8\")\n",
    "    #print_and_display(real_quotes_container, \"real_quotes_container\")\n",
    "\n",
    "    nav = real_quotes_container.find_element(By.TAG_NAME, 'nav')\n",
    "    ul = nav.find_element(By.TAG_NAME, 'ul')\n",
    "    try:\n",
    "        li = ul.find_element(By.CLASS_NAME, 'next')\n",
    "    except NoSuchElementException:\n",
    "        return False\n",
    "    a = li.find_element(By.TAG_NAME, 'a')\n",
    "    a.click()\n",
    "    return True"
   ],
   "id": "76cd21fe1430d4b5",
   "outputs": [],
   "execution_count": 91
  },
  {
   "metadata": {
    "ExecuteTime": {
     "end_time": "2025-07-31T14:25:23.117965Z",
     "start_time": "2025-07-31T14:25:18.253207Z"
    }
   },
   "cell_type": "code",
   "source": [
    "driver.get(\"https://quotes.toscrape.com/\")\n",
    "\n",
    "all_quotes = list()\n",
    "while(True):\n",
    "    source_html = driver.page_source\n",
    "    quotes = parse_page(source_html)\n",
    "    if len(quotes) == 0:\n",
    "        break\n",
    "    all_quotes.extend(quotes)\n",
    "    go_to_next_page_result = go_to_next_page()\n",
    "    if not go_to_next_page_result:\n",
    "        break\n",
    "print(len(all_quotes))"
   ],
   "id": "32df502f2df92e65",
   "outputs": [
    {
     "name": "stdout",
     "output_type": "stream",
     "text": [
      "100\n"
     ]
    }
   ],
   "execution_count": 93
  }
 ],
 "metadata": {
  "kernelspec": {
   "display_name": "Python 3",
   "language": "python",
   "name": "python3"
  },
  "language_info": {
   "codemirror_mode": {
    "name": "ipython",
    "version": 2
   },
   "file_extension": ".py",
   "mimetype": "text/x-python",
   "name": "python",
   "nbconvert_exporter": "python",
   "pygments_lexer": "ipython2",
   "version": "2.7.6"
  }
 },
 "nbformat": 4,
 "nbformat_minor": 5
}
